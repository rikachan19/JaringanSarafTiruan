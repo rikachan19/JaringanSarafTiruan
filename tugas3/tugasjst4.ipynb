{
  "nbformat": 4,
  "nbformat_minor": 0,
  "metadata": {
    "colab": {
      "provenance": [],
      "authorship_tag": "ABX9TyMyA1mxImIEbmNIFwLCEdkj",
      "include_colab_link": true
    },
    "kernelspec": {
      "name": "python3",
      "display_name": "Python 3"
    },
    "language_info": {
      "name": "python"
    }
  },
  "cells": [
    {
      "cell_type": "markdown",
      "metadata": {
        "id": "view-in-github",
        "colab_type": "text"
      },
      "source": [
        "<a href=\"https://colab.research.google.com/github/rikachan19/JaringanSarafTiruan/blob/main/tugas3/tugasjst4.ipynb\" target=\"_parent\"><img src=\"https://colab.research.google.com/assets/colab-badge.svg\" alt=\"Open In Colab\"/></a>"
      ]
    },
    {
      "cell_type": "code",
      "execution_count": 1,
      "metadata": {
        "id": "H4BRZaWO8-jM"
      },
      "outputs": [],
      "source": [
        "# 1. Import library yang diperlukan\n",
        "import numpy as np\n",
        "import pandas as pd\n",
        "from sklearn.datasets import load_iris\n",
        "from sklearn.model_selection import train_test_split\n",
        "from sklearn.preprocessing import OneHotEncoder\n",
        "from sklearn.metrics import confusion_matrix, accuracy_score\n",
        "import matplotlib.pyplot as plt\n",
        "import seaborn as sns\n",
        "\n",
        "# 2. Load dataset Iris\n",
        "iris = load_iris()\n",
        "\n",
        "X = iris['data']  # Fitur: sepal length, sepal width, petal length, petal width\n",
        "y = iris['target'].reshape(-1, 1)  # Target: Kelas (Setosa, Versicolor, Virginica)\n",
        "\n",
        "# 3. Preprocessing data\n",
        "# One hot encoding untuk target (karena kita punya 3 kelas)\n",
        "\n",
        "encoder = OneHotEncoder(sparse_output=False)  # sparse_output=False untuk sklearn versi terbaru\n",
        "\n",
        "y_encoded = encoder.fit_transform(y)"
      ]
    },
    {
      "cell_type": "code",
      "source": [
        "# Pisahkan data menjadi data pelatihan dan pengujian\n",
        "X_train, X_test, y_train, y_test = train_test_split(X, y_encoded, test_size=0.2, random_state=42)\n",
        "\n",
        "# Tampilkan beberapa data pelatihan\n",
        "data_latih = pd.DataFrame(X_train, columns=iris['feature_names'])\n",
        "data_latih['target'] = np.argmax(y_train, axis=1)  # Tambahkan kolom target\n",
        "data_latih['nama_target'] = data_latih['target'].apply(lambda x: iris['target_names'][x])  # Tambahkan kolom nama target\n",
        "print(\"Data Pelatihan:\")\n",
        "print(data_latih.head())  # Tampilkan 5 data pertama\n",
        "\n",
        "# Tampilkan beberapa data pengujian\n",
        "data_uji = pd.DataFrame(X_test, columns=iris['feature_names'])\n",
        "data_uji['target'] = np.argmax(y_test, axis=1)  # Tambahkan kolom target\n",
        "data_uji['nama_target'] = data_uji['target'].apply(lambda x: iris['target_names'][x])  # Tambahkan kolom nama target\n",
        "print(\"\\nData Pengujian:\")\n",
        "print(data_uji.head())  # Tampilkan 5 data pertama"
      ],
      "metadata": {
        "colab": {
          "base_uri": "https://localhost:8080/"
        },
        "id": "5jCKl5tA9FYy",
        "outputId": "58c26ae7-b236-4983-ee6b-88e680cf05ef"
      },
      "execution_count": 2,
      "outputs": [
        {
          "output_type": "stream",
          "name": "stdout",
          "text": [
            "Data Pelatihan:\n",
            "   sepal length (cm)  sepal width (cm)  petal length (cm)  petal width (cm)  \\\n",
            "0                4.6               3.6                1.0               0.2   \n",
            "1                5.7               4.4                1.5               0.4   \n",
            "2                6.7               3.1                4.4               1.4   \n",
            "3                4.8               3.4                1.6               0.2   \n",
            "4                4.4               3.2                1.3               0.2   \n",
            "\n",
            "   target nama_target  \n",
            "0       0      setosa  \n",
            "1       0      setosa  \n",
            "2       1  versicolor  \n",
            "3       0      setosa  \n",
            "4       0      setosa  \n",
            "\n",
            "Data Pengujian:\n",
            "   sepal length (cm)  sepal width (cm)  petal length (cm)  petal width (cm)  \\\n",
            "0                6.1               2.8                4.7               1.2   \n",
            "1                5.7               3.8                1.7               0.3   \n",
            "2                7.7               2.6                6.9               2.3   \n",
            "3                6.0               2.9                4.5               1.5   \n",
            "4                6.8               2.8                4.8               1.4   \n",
            "\n",
            "   target nama_target  \n",
            "0       1  versicolor  \n",
            "1       0      setosa  \n",
            "2       2   virginica  \n",
            "3       1  versicolor  \n",
            "4       1  versicolor  \n"
          ]
        }
      ]
    },
    {
      "cell_type": "code",
      "source": [
        "\n",
        "# 4. Membangun jaringan saraf sederhana (1 lapisan tersembunyi)\n",
        "input_neuron = X_train.shape[1]  # 4 fitur (lapisan input)\n",
        "hidden_neuron = 5  # 5 neuron di lapisan tersembunyi\n",
        "output_neuron = y_train.shape[1]  # 3 output (kelas bunga)\n",
        "\n",
        "# Inisialisasi bobot secara acak\n",
        "np.random.seed(42)\n",
        "\n",
        "W1 = np.random.randn(input_neuron, hidden_neuron)  # Bobot untuk lapisan input ke lapisan tersembunyi\n",
        "b1 = np.zeros((1, hidden_neuron))  # Bias untuk lapisan tersembunyi\n",
        "\n",
        "W2 = np.random.randn(hidden_neuron, output_neuron)  # Bobot untuk lapisan tersembunyi ke lapisan output\n",
        "b2 = np.zeros((1, output_neuron))  # Bias untuk lapisan output\n",
        "\n",
        "# Fungsi aktivasi: Sigmoid\n",
        "def sigmoid(x):\n",
        "    return 1 / (1 + np.exp(-x))  # Fungsi Sigmoid\n",
        "\n",
        "def sigmoid_derivative(x):\n",
        "    return x * (1 - x)  # Turunan fungsi Sigmoid"
      ],
      "metadata": {
        "id": "2ztL3b1l9FWM"
      },
      "execution_count": 3,
      "outputs": []
    },
    {
      "cell_type": "code",
      "source": [
        "# 5. Propagasi Maju (Forward Propagation)\n",
        "def forward_propagation(X):\n",
        "    Z1 = np.dot(X, W1) + b1  # Perhitungan untuk lapisan tersembunyi\n",
        "    A1 = sigmoid(Z1)         # Aktivasi lapisan tersembunyi menggunakan fungsi sigmoid\n",
        "    Z2 = np.dot(A1, W2) + b2  # Perhitungan untuk lapisan output\n",
        "    A2 = sigmoid(Z2)         # Aktivasi lapisan output menggunakan fungsi sigmoid\n",
        "    return Z1, A1, Z2, A2     # Mengembalikan nilai-nilai untuk backpropagation\n",
        "\n",
        "# 6. Propagasi Balik (Pembaruan Bobot)\n",
        "def backward_propagation(X, Y, Z1, A1, Z2, A2, learning_rate):\n",
        "    global W1, b1, W2, b2  # Deklarasi variabel global sebelum digunakan\n",
        "\n",
        "    # Kesalahan di lapisan output\n",
        "    dZ2 = A2 - Y  # Selisih antara prediksi (A2) dan nilai sebenarnya (Y)\n",
        "    dW2 = np.dot(A1.T, dZ2) / len(X)  # Gradien bobot untuk W2\n",
        "    db2 = np.sum(dZ2, axis=0, keepdims=True) / len(X)  # Gradien bias untuk b2\n",
        "\n",
        "    # Kesalahan di lapisan tersembunyi\n",
        "    dA1 = np.dot(dZ2, W2.T)  # Kesalahan yang dibawa kembali dari output ke lapisan tersembunyi\n",
        "    dZ1 = dA1 * sigmoid_derivative(A1)  # Turunan sigmoid untuk menghitung kesalahan di Z1\n",
        "    dW1 = np.dot(X.T, dZ1) / len(X)  # Gradien bobot untuk W1\n",
        "    db1 = np.sum(dZ1, axis=0, keepdims=True) / len(X)  # Gradien bias untuk b1\n",
        "\n",
        "    # Pembaruan bobot\n",
        "    W1 -= learning_rate * dW1  # Update bobot W1\n",
        "    b1 -= learning_rate * db1  # Update bias b1\n",
        "    W2 -= learning_rate * dW2  # Update bobot W2\n",
        "    b2 -= learning_rate * db2  # Update bias b2"
      ],
      "metadata": {
        "id": "pBOHhjCZ9FR0"
      },
      "execution_count": 4,
      "outputs": []
    },
    {
      "cell_type": "code",
      "source": [
        "\n",
        "# 7. Training (pelatihan)\n",
        "def train(X, y, iterations, learning_rate):\n",
        "    for i in range(iterations):\n",
        "        Z1, A1, Z2, A2 = forward_propagation(X)\n",
        "        backward_propagation(X, y, Z1, A1, Z2, A2, learning_rate)\n",
        "\n",
        "        # Cetak loss (Mean Squared Error) setiap iterasi\n",
        "        loss = np.mean(np.square(y - A2))\n",
        "        print(f'Iteration {i+1}, Loss: {loss}')\n",
        "\n",
        "# Melatih jaringan (10 iterasi, learning rate 0.01)\n",
        "train(X_train, y_train, iterations=10, learning_rate=0.01)\n",
        "\n",
        "# 8. Testing (pengujian)\n",
        "def predict(X):\n",
        "    A2 = forward_propagation(X)[-1]\n",
        "    return np.argmax(A2, axis=1)\n",
        "\n",
        "# Memprediksi kelas untuk data uji\n",
        "predictions = predict(X_test)\n",
        "\n",
        "# Evaluasi akurasi\n",
        "y_test_labels = np.argmax(y_test, axis=1)\n",
        "accuracy = accuracy_score(y_test_labels, predictions)\n",
        "print(f'Akurasi: {accuracy:.2f}%')"
      ],
      "metadata": {
        "colab": {
          "base_uri": "https://localhost:8080/"
        },
        "id": "v_KLuIJG9FPX",
        "outputId": "e24de3cb-90b0-4bcd-d8fd-84b40b1be35d"
      },
      "execution_count": 5,
      "outputs": [
        {
          "output_type": "stream",
          "name": "stdout",
          "text": [
            "Iteration 1, Loss: 0.30105161691576526\n",
            "Iteration 2, Loss: 0.3000385084976714\n",
            "Iteration 3, Loss: 0.2990315625126517\n",
            "Iteration 4, Loss: 0.2980306211088376\n",
            "Iteration 5, Loss: 0.2970355402462242\n",
            "Iteration 6, Loss: 0.29604619207544774\n",
            "Iteration 7, Loss: 0.2950624667069096\n",
            "Iteration 8, Loss: 0.29408427340560883\n",
            "Iteration 9, Loss: 0.29311154124975036\n",
            "Iteration 10, Loss: 0.29214421929350853\n",
            "Akurasi: 0.23%\n"
          ]
        }
      ]
    },
    {
      "cell_type": "code",
      "source": [
        "\n",
        "# Confusion Matrix\n",
        "conf_matrix = confusion_matrix(y_test_labels, predictions)\n",
        "\n",
        "plt.figure(figsize=(6, 4))\n",
        "sns.heatmap(conf_matrix, annot=True, fmt=\"d\", cmap=\"Blues\",\n",
        "            xticklabels=iris['target_names'], yticklabels=iris['target_names'])\n",
        "plt.xlabel(\"Predicted\")\n",
        "plt.ylabel(\"Actual\")\n",
        "plt.title(\"Confusion Matrix\")\n",
        "plt.show()\n",
        "\n",
        "# 9. Fungsi untuk memprediksi data baru\n",
        "def predict_new_data(new_data):\n",
        "    new_data = np.array(new_data).reshape(1, -1)  # Convert to 2D array\n",
        "    predicted_class = predict(new_data)  # Predict class\n",
        "    class_names = iris['target_names']  # Class names (Setosa, Versicolor, Virginica)\n",
        "    return class_names[predicted_class][0]"
      ],
      "metadata": {
        "colab": {
          "base_uri": "https://localhost:8080/",
          "height": 410
        },
        "id": "p1WVaTBO9FHg",
        "outputId": "83278e05-cdbc-4705-c6b2-8d968a9232de"
      },
      "execution_count": 6,
      "outputs": [
        {
          "output_type": "display_data",
          "data": {
            "text/plain": [
              "<Figure size 600x400 with 2 Axes>"
            ],
            "image/png": "[encoded data removed]"
          },
          "metadata": {}
        }
      ]
    },
    {
      "cell_type": "code",
      "source": [
        "\n",
        "\n",
        "# Contoh prediksi data baru\n",
        "new_data = [5.1, 3.5, 1.4, 0.2]  # New data (sepal length, sepal width, petal length, petal width)\n",
        "predicted_class = predict_new_data(new_data)\n",
        "\n",
        "print(f'Data baru: {new_data}, Prediksi Kelas: {predicted_class}')"
      ],
      "metadata": {
        "colab": {
          "base_uri": "https://localhost:8080/"
        },
        "id": "rAbKYkVw9FE-",
        "outputId": "1d25654d-d890-4a5b-c195-c1f8e475c2eb"
      },
      "execution_count": 7,
      "outputs": [
        {
          "output_type": "stream",
          "name": "stdout",
          "text": [
            "Data baru: [5.1, 3.5, 1.4, 0.2], Prediksi Kelas: virginica\n"
          ]
        }
      ]
    }
  ]
}